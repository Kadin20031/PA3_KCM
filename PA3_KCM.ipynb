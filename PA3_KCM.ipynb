{
 "cells": [
  {
   "cell_type": "markdown",
   "id": "12bf1a07",
   "metadata": {},
   "source": [
    "## Task 1: List Operations "
   ]
  },
  {
   "cell_type": "code",
   "execution_count": 67,
   "id": "85313c51",
   "metadata": {},
   "outputs": [
    {
     "name": "stdout",
     "output_type": "stream",
     "text": [
      "Modified numbers list: [5, 20, 30, 40, 50, 60]\n"
     ]
    }
   ],
   "source": [
    "numbers=[10,20,30,40,50]\n",
    "numbers.append(60)\n",
    "numbers.insert(0,5)\n",
    "numbers.pop(1)\n",
    "\n",
    "print(f\"Modified numbers list: {numbers}\")"
   ]
  },
  {
   "cell_type": "markdown",
   "id": "630dc50a",
   "metadata": {},
   "source": [
    "## Task 2: Tuple Basics"
   ]
  },
  {
   "cell_type": "code",
   "execution_count": 68,
   "id": "bae0f59e",
   "metadata": {},
   "outputs": [
    {
     "name": "stdout",
     "output_type": "stream",
     "text": [
      "The third day of the week is Wednesday\n"
     ]
    }
   ],
   "source": [
    "days =(\"Monday\",\"Tuesday\",\"Wednesday\",\"Thursday\",\"Friday\",\"Saturday\",\"Sunday\")\n",
    "print(F\"The third day of the week is {days[2]}\")\n",
    "\n",
    "#days[2]=\"Funday\"\n",
    "#Tuples are immutable, cannot update it "
   ]
  },
  {
   "cell_type": "markdown",
   "id": "7a007b4d",
   "metadata": {},
   "source": [
    "## Task 3: Reversing Sublist"
   ]
  },
  {
   "cell_type": "code",
   "execution_count": 69,
   "id": "4d04eb9e",
   "metadata": {},
   "outputs": [
    {
     "name": "stdout",
     "output_type": "stream",
     "text": [
      "['p', 'o', 'n', 'm', 'l', 'k']\n",
      "['k', 'l', 'm', 'n', 'o', 'p']\n"
     ]
    }
   ],
   "source": [
    "letters=[\"a\",\"b\",\"c\",\"d\",\"e\",\"f\",\"g\",\"h\",\"i\",\"j\",\"k\",\"l\",\"m\",\"n\",\"o\",\"p\",\"q\",\"r\",\"s\",\"t\",\"u\",\"v\",\"w\",\"x\",\"y\",\"z\"]\n",
    "print(letters[15:9:-1])\n",
    "new_list=letters[15:9:-1]\n",
    "print(new_list[::-1])\n",
    "\n",
    "\n",
    "\n",
    "\n"
   ]
  },
  {
   "cell_type": "markdown",
   "id": "7b4cb5bc",
   "metadata": {},
   "source": [
    "## Task 4: Tuple Packing and Unpacking"
   ]
  },
  {
   "cell_type": "code",
   "execution_count": 70,
   "id": "61edf3a8",
   "metadata": {},
   "outputs": [
    {
     "name": "stdout",
     "output_type": "stream",
     "text": [
      "Kadin\n",
      "McWilliams\n",
      "20\n",
      "Math\n"
     ]
    }
   ],
   "source": [
    "student=(\"Kadin\",\"McWilliams\",20,\"Math\")\n",
    "for item in student:\n",
    "    print(item)\n"
   ]
  },
  {
   "cell_type": "markdown",
   "id": "2e6fc4a3",
   "metadata": {},
   "source": [
    "## Task 5: Shopping List"
   ]
  },
  {
   "cell_type": "code",
   "execution_count": 71,
   "id": "d2bbb9de",
   "metadata": {},
   "outputs": [
    {
     "name": "stdout",
     "output_type": "stream",
     "text": [
      "The total number of items is: 5\n",
      "Sorted shopping list ['Bagel', 'Beef Jerky', 'Eggs', 'Gatorade', 'Milk']\n"
     ]
    }
   ],
   "source": [
    "shopping_list=[\"Eggs\",\"Milk\",\"Lemonade\",\"Gatorade\",\"Beef Jerky\"]\n",
    "print(f\"The total number of items is: {len(shopping_list)}\")\n",
    "shopping_list[2]=\"Bagel\"\n",
    "shopping_list.sort()\n",
    "print(f\"Sorted shopping list {shopping_list}\")"
   ]
  },
  {
   "cell_type": "code",
   "execution_count": null,
   "id": "45abe6aa",
   "metadata": {},
   "outputs": [],
   "source": []
  }
 ],
 "metadata": {
  "kernelspec": {
   "display_name": "Python 3 (ipykernel)",
   "language": "python",
   "name": "python3"
  },
  "language_info": {
   "codemirror_mode": {
    "name": "ipython",
    "version": 3
   },
   "file_extension": ".py",
   "mimetype": "text/x-python",
   "name": "python",
   "nbconvert_exporter": "python",
   "pygments_lexer": "ipython3",
   "version": "3.11.4"
  }
 },
 "nbformat": 4,
 "nbformat_minor": 5
}
